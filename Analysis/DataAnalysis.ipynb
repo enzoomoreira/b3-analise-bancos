{
 "cells": [
  {
   "cell_type": "code",
   "execution_count": null,
   "id": "dbe5d84b",
   "metadata": {},
   "outputs": [],
   "source": [
    "import pandas as pd\n",
    "from pathlib import Path\n",
    "import sys\n",
    "\n",
    "# Adiciona o diretório 'Code' ao path para encontrar o DataUtils\n",
    "# Assumindo que o notebook está na raiz do projeto e o script em 'Code'\n",
    "code_dir = Path('..').resolve() / 'Code'\n",
    "if str(code_dir) not in sys.path:\n",
    "    sys.path.append(str(code_dir))\n",
    "\n",
    "from DataUtils import AnalisadorBancario\n",
    "\n",
    "# --- Configurações ---\n",
    "pd.set_option('display.float_format', lambda x: f'{x:,.2f}')\n",
    "output_dir = Path('..').resolve() / 'Output'\n",
    "\n",
    "# --- Inicializar o Analisador ---\n",
    "# A classe carrega todos os dados na inicialização.\n",
    "analisador = AnalisadorBancario(diretorio_output=str(output_dir))"
   ]
  },
  {
   "cell_type": "code",
   "execution_count": null,
   "id": "6514a91a",
   "metadata": {},
   "outputs": [],
   "source": [
    "# Objetivo: Pegar o Patrimônio Líquido e o Ativo Total do Itaú em dez/2023.\n",
    "# Usaremos o COSIF Prudencial, que é o padrão.\n",
    "# Para balanços, o documento 4060 é geralmente o balancete e 4066 o balanço. Vamos pegar de ambos.\n",
    "\n",
    "contas_interesse = ['ATIVO REALIZÁVEL', 'Caixa']\n",
    "data_interesse = 202412\n",
    "\n",
    "dados_itau_cosif = analisador.get_dados_cosif(\n",
    "    identificador='BCO DO BRASIL S.A.',\n",
    "    contas=contas_interesse,\n",
    "    datas=data_interesse,\n",
    "    documentos=[4060, 4066] # Exemplo de filtro por documento\n",
    ")\n",
    "\n",
    "print(\"--- Dados COSIF para Bco do Brasil ---\")\n",
    "display(dados_itau_cosif)"
   ]
  },
  {
   "cell_type": "code",
   "execution_count": null,
   "id": "37e50951",
   "metadata": {},
   "outputs": [],
   "source": [
    "# Objetivo: Tentar pegar o mesmo dado para a Nu Financeira.\n",
    "# A classe deve traduzir '30680829' para os identificadores corretos.\n",
    "\n",
    "dados_nubank_cosif = analisador.get_dados_cosif(\n",
    "    identificador='18236120', # CNPJ da Nu Financeira\n",
    "    contas=contas_interesse,\n",
    "    datas=data_interesse\n",
    ")\n",
    "\n",
    "print(\"\\n--- Dados COSIF para Nubank (via CNPJ da Financeira) ---\")\n",
    "# Esperamos que a classe encontre os dados reportados pelo CNPJ do líder (18236120)\n",
    "display(dados_nubank_cosif)"
   ]
  },
  {
   "cell_type": "code",
   "execution_count": null,
   "id": "858cef91",
   "metadata": {},
   "outputs": [],
   "source": [
    "# Objetivo: Ver a situação cadastral e o segmento dos grandes bancos.\n",
    "\n",
    "bancos = ['BCO DO BRASIL S.A.', 'BRB - BCO DE BRASILIA S.A.', 'CAIXA ECONOMICA FEDERAL']\n",
    "\n",
    "atributos = ['SITUACAO_IFD_CAD', 'SEGMENTOTB_IFD_CAD']\n",
    "\n",
    "cadastro_bancos = analisador.get_atributos_cadastro(\n",
    "    identificador=bancos,\n",
    "    atributos=atributos\n",
    ")\n",
    "\n",
    "print(\"\\n--- Atributos de Cadastro ---\")\n",
    "display(cadastro_bancos)"
   ]
  },
  {
   "cell_type": "code",
   "execution_count": null,
   "id": "0abc9369",
   "metadata": {},
   "outputs": [],
   "source": [
    "# Objetivo: Criar a tabela comparativa que discutimos.\n",
    "\n",
    "# Definimos os indicadores que queremos na nossa tabela\n",
    "indicadores_desejados = {\n",
    "    'Patrimônio Líquido': {'tipo': 'COSIF', 'conta': 'PATRIMÔNIO LÍQUIDO'},\n",
    "    'Total Ativos': {'tipo': 'COSIF', 'conta': 'TOTAL GERAL DO ATIVO'},\n",
    "    # Adicionar o indicador de Basileia do IFDATA aqui quando o método estiver completo\n",
    "    'Situação': {'tipo': 'Atributo', 'atributo': 'SITUACAO_IFD_CAD'}\n",
    "}\n",
    "\n",
    "# Lista de bancos para a comparação\n",
    "bancos_para_comparar = ['ITAU', 'BRADESCO', 'NUBANK', 'BTG PACTUAL']\n",
    "\n",
    "# Gerar a tabela\n",
    "tabela_comparativa = analisador.comparar_indicadores(\n",
    "    identificadores=bancos_para_comparar,\n",
    "    indicadores=indicadores_desejados,\n",
    "    data=202412\n",
    ")\n",
    "\n",
    "print(\"\\n--- Tabela Comparativa de Indicadores (Dez/2024) ---\")\n",
    "display(tabela_comparativa)"
   ]
  }
 ],
 "metadata": {
  "language_info": {
   "name": "python"
  }
 },
 "nbformat": 4,
 "nbformat_minor": 5
}
