{
 "cells": [
  {
   "cell_type": "code",
   "execution_count": null,
   "id": "640da627",
   "metadata": {},
   "outputs": [],
   "source": [
    "# ===== Cell 1: Imports e carregamento do arquivo Parquet final corrigido =====\n",
    "from pathlib import Path\n",
    "import pandas as pd\n",
    "\n",
    "# --- Definir caminhos relativos ---\n",
    "# Assumindo que DataCheck.ipynb está na pasta 'Code/'\n",
    "# e a pasta 'Output/' está um nível acima, dentro da raiz do projeto.\n",
    "notebook_parent_dir = Path('..')  # Vai de 'Code/' para 'b3-analise-bancos/'\n",
    "output_dir = notebook_parent_dir / 'Output'\n",
    "\n",
    "# Caminhos para os arquivos Parquet\n",
    "parquet_path = output_dir / 'df_final_corrigido.parquet'\n",
    "parquet_cosif_full_path = output_dir / 'df_cosif_full_corrigido.parquet'  # Renomeei a variável para clareza\n",
    "\n",
    "# Carrega o DataFrame\n",
    "df = pd.read_parquet(parquet_path)\n"
   ]
  },
  {
   "cell_type": "code",
   "execution_count": null,
   "id": "36eda4da",
   "metadata": {},
   "outputs": [],
   "source": [
    "# ===== Cell 2: Checagem básica de dimensões e colunas =====\n",
    "print(\"Shape do DataFrame:\", df.shape)\n",
    "\n",
    "print(\"\\nColunas do DataFrame:\")\n",
    "for i, col in enumerate(df.columns, start=1):\n",
    "    print(f\"{i}. {col}\")\n"
   ]
  },
  {
   "cell_type": "code",
   "execution_count": null,
   "id": "60c669a9",
   "metadata": {},
   "outputs": [],
   "source": [
    "# ===== Cell 3: Informações gerais sobre tipos e valores nulos =====\n",
    "df.info()\n",
    "\n",
    "print(\"\\nContagem de valores nulos por coluna:\")\n",
    "print(df.isnull().sum())\n"
   ]
  },
  {
   "cell_type": "code",
   "execution_count": null,
   "id": "f298f918",
   "metadata": {},
   "outputs": [],
   "source": [
    "# ===== Cell 4: Amostra inicial dos dados =====\n",
    "display(df.head(10))\n"
   ]
  },
  {
   "cell_type": "code",
   "execution_count": null,
   "id": "1ac72ea1",
   "metadata": {},
   "outputs": [],
   "source": [
    "# ===== Cell 6: Estatísticas descritivas das colunas não numéricas =====\n",
    "obj_cols = df.select_dtypes(include=['object', 'string']).columns\n",
    "\n",
    "for col in obj_cols:\n",
    "    n_unique = df[col].nunique(dropna=False)\n",
    "    sample_vals = df[col].dropna().unique()[:10]\n",
    "    print(f\"Coluna: {col}\")\n",
    "    print(f\"  - Tipo: {df[col].dtype}\")\n",
    "    print(f\"  - Valores únicos (até 10 exemplares): {sample_vals.tolist()}\")\n",
    "    print(f\"  - Contagem de valores únicos: {n_unique}\\n\")\n"
   ]
  },
  {
   "cell_type": "code",
   "execution_count": null,
   "id": "ad0e6243",
   "metadata": {},
   "outputs": [],
   "source": [
    "# ===== Cell 7: Verificação de duplicatas e índice =====\n",
    "n_duplicated = df.duplicated().sum()\n",
    "print(f\"Total de linhas duplicadas (identicamente iguais): {n_duplicated}\")\n",
    "\n",
    "print(\"\\nÍndice do DataFrame:\")\n",
    "print(df.index)\n"
   ]
  },
  {
   "cell_type": "code",
   "execution_count": null,
   "id": "6ec4e9de",
   "metadata": {},
   "outputs": [],
   "source": [
    "# ===== Cell 8: Amostragem aleatória de linhas =====\n",
    "display(df.sample(n=5, random_state=42))\n"
   ]
  },
  {
   "cell_type": "code",
   "execution_count": null,
   "id": "05f12925",
   "metadata": {},
   "outputs": [],
   "source": [
    "# ===== Cell 9: (Opcional) Carregar df_cosif_full_corrigido para comparações =====\n",
    "df_cosif_full = pd.read_parquet(parquet_cosif_full_path)\n",
    "\n",
    "print(\"Shape de df_cosif_full_corrigido:\", df_cosif_full.shape)\n",
    "print(\"\\nColunas de df_cosif_full_corrigido:\")\n",
    "for i, col in enumerate(df_cosif_full.columns, start=1):\n",
    "    print(f\"{i}. {col}\")\n"
   ]
  },
  {
   "cell_type": "code",
   "execution_count": null,
   "id": "172058dd",
   "metadata": {},
   "outputs": [],
   "source": [
    "# ===== Cell 10: (Opcional) Amplitude temporal e quantidade de instituições =====\n",
    "# Exibe os períodos cobertos e quantos CNPJs distintos existem no final\n",
    "print(\"Períodos únicos em df_final_corrigido:\", df['DATA'].nunique(), \"valores\")\n",
    "print(\"Instituições únicas em df_final_corrigido:\", df['CNPJ'].nunique(), \"CNPJs\")\n",
    "\n",
    "# Para o df_cosif_full_corrigido\n",
    "print(\"Períodos únicos em df_cosif_full_corrigido:\", df_cosif_full['DATA'].nunique())\n",
    "print(\"Instituições únicas em df_cosif_full_corrigido:\", df_cosif_full['CNPJ'].nunique())\n"
   ]
  }
 ],
 "metadata": {
  "kernelspec": {
   "display_name": ".venv",
   "language": "python",
   "name": "python3"
  },
  "language_info": {
   "codemirror_mode": {
    "name": "ipython",
    "version": 3
   },
   "file_extension": ".py",
   "mimetype": "text/x-python",
   "name": "python",
   "nbconvert_exporter": "python",
   "pygments_lexer": "ipython3",
   "version": "3.12.7"
  }
 },
 "nbformat": 4,
 "nbformat_minor": 5
}
