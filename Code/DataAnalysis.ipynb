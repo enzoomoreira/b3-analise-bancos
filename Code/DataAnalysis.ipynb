{
 "cells": [
  {
   "cell_type": "code",
   "execution_count": null,
   "id": "60eb908f",
   "metadata": {},
   "outputs": [],
   "source": [
    "# ===== Cell: Buscar “Operações de Risco Nível G” da CAIXA em 202412 no df_final_corrigido =====\n",
    "import pandas as pd\n",
    "\n",
    "# 1. Carrega o df_final_corrigido\n",
    "parquet_final = r'C:\\\\Users\\\\Enzo\\\\Documents\\\\Programming\\\\b3-analise-bancos\\\\Output\\\\df_final_corrigido.parquet'\n",
    "df = pd.read_parquet(parquet_final)\n",
    "\n",
    "# 2. Filtra apenas linhas de dezembro/2024 para “CAIXA ECONOMICA FEDERAL” e “Operações de Risco Nível G”\n",
    "filtro = (\n",
    "    (df['DATA'] == 202412) &\n",
    "    (df['NOME_INSTITUICAO'] == 'CAIXA ECONOMICA FEDERAL') &\n",
    "    (df['NOME_CONTA'] == 'Operações de Risco Nível G')\n",
    ")\n",
    "\n",
    "sub = df.loc[filtro, ['DATA','CNPJ','CONTA','NOME_CONTA','SALDO']]\n",
    "\n",
    "# 3. Elimina duplicatas exatas de SALDO (mesmo valor repetido para documento 4010/4016)\n",
    "sub_unico = sub.drop_duplicates(subset=['DATA','CNPJ','CONTA','SALDO'])\n",
    "\n",
    "# 4. Exibe o valor encontrado (em reais)\n",
    "print(\"Saldo bruto (R$) de Operações de Risco Nível G:\", sub_unico['SALDO'].iloc[0])\n",
    "\n",
    "# 5. (Opcional) Converter para milhares (dividindo por 1_000) se você quiser o mesmo formato visto em if.data\n",
    "print(\n",
    "    \"Saldo em milhares (R$ mil):\",\n",
    "    sub_unico['SALDO'].iloc[0] / 1_000\n",
    ")\n"
   ]
  }
 ],
 "metadata": {
  "kernelspec": {
   "display_name": ".venv",
   "language": "python",
   "name": "python3"
  },
  "language_info": {
   "codemirror_mode": {
    "name": "ipython",
    "version": 3
   },
   "file_extension": ".py",
   "mimetype": "text/x-python",
   "name": "python",
   "nbconvert_exporter": "python",
   "pygments_lexer": "ipython3",
   "version": "3.12.7"
  }
 },
 "nbformat": 4,
 "nbformat_minor": 5
}
